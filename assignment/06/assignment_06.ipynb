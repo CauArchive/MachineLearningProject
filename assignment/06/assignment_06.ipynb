{
  "cells": [
    {
      "cell_type": "markdown",
      "metadata": {
        "colab_type": "text",
        "id": "view-in-github"
      },
      "source": [
        "<a href=\"https://colab.research.google.com/github/woodi97/MachineLearningProject/blob/main/assignment/06/assignment_06.ipynb\" target=\"_parent\"><img src=\"https://colab.research.google.com/assets/colab-badge.svg\" alt=\"Open In Colab\"/></a>"
      ]
    },
    {
      "cell_type": "markdown",
      "metadata": {
        "id": "K29I-OwCEYzW",
        "outputId": "db8b297c-a4b8-457a-b43f-7570135306c7"
      },
      "source": [
        "# Multi-class classification based on Softmax and Cross-Entropy using pytorch"
      ]
    },
    {
      "cell_type": "markdown",
      "metadata": {
        "id": "LLWeSGG_ZQuJ"
      },
      "source": [
        "## import libraries"
      ]
    },
    {
      "cell_type": "code",
      "execution_count": 493,
      "metadata": {
        "id": "WmEPB7-JZQuK"
      },
      "outputs": [],
      "source": [
        "import torch\n",
        "import torch.nn as nn\n",
        "import torch.nn.functional as F\n",
        "import torchvision\n",
        "from torch.utils.data import Dataset\n",
        "from torchvision import datasets, transforms\n",
        "#import torchvision.transforms.functional as F\n",
        "import numpy as np\n",
        "import matplotlib.pyplot as plt\n",
        "import math\n",
        "from tqdm import tqdm\n",
        "import random\n",
        "import os"
      ]
    },
    {
      "cell_type": "markdown",
      "metadata": {
        "id": "AFvrTq5oZQuM"
      },
      "source": [
        "## load data"
      ]
    },
    {
      "cell_type": "code",
      "execution_count": 494,
      "metadata": {
        "colab": {
          "base_uri": "https://localhost:8080/"
        },
        "id": "j8LyFaHfZQuM",
        "outputId": "c915b9d5-d7cd-41e4-8fa0-a8f0e0c2d221"
      },
      "outputs": [
        {
          "name": "stdout",
          "output_type": "stream",
          "text": [
            "*************************************************\n",
            "size of x_train : (20000, 32, 32)\n",
            "size of y_train : (20000,)\n",
            "*************************************************\n",
            "size of x_test : (8000, 32, 32)\n",
            "size of y_test : (8000,)\n",
            "*************************************************\n",
            "number of training image : 20000\n",
            "height of training image : 32\n",
            "width of training image : 32\n",
            "*************************************************\n",
            "number of testing image : 8000\n",
            "height of testing image : 32\n",
            "width of testing image : 32\n",
            "*************************************************\n"
          ]
        }
      ],
      "source": [
        "directory_data  = './data/'\n",
        "filename_data   = 'assignment_06_data.npz'\n",
        "data            = np.load(os.path.join(directory_data, filename_data))\n",
        "\n",
        "x_train = data['x_train']\n",
        "y_train = data['y_train']\n",
        "\n",
        "x_test  = data['x_test']\n",
        "y_test  = data['y_test']\n",
        "\n",
        "num_data_train  = x_train.shape[0]\n",
        "num_data_test   = x_test.shape[0]\n",
        "\n",
        "print('*************************************************')\n",
        "print('size of x_train :', x_train.shape)\n",
        "print('size of y_train :', y_train.shape)\n",
        "print('*************************************************')\n",
        "print('size of x_test :', x_test.shape)\n",
        "print('size of y_test :', y_test.shape)\n",
        "print('*************************************************')\n",
        "print('number of training image :', x_train.shape[0])\n",
        "print('height of training image :', x_train.shape[1])\n",
        "print('width of training image :', x_train.shape[2])\n",
        "print('*************************************************')\n",
        "print('number of testing image :', x_test.shape[0])\n",
        "print('height of testing image :', x_test.shape[1])\n",
        "print('width of testing image :', x_test.shape[2])\n",
        "print('*************************************************')"
      ]
    },
    {
      "cell_type": "markdown",
      "metadata": {
        "id": "IZkiBZrlZQuP"
      },
      "source": [
        "## number of classes"
      ]
    },
    {
      "cell_type": "code",
      "execution_count": 495,
      "metadata": {
        "colab": {
          "base_uri": "https://localhost:8080/"
        },
        "id": "TedJsxZOZQuP",
        "outputId": "042c2606-9fff-4679-bda4-67481a6a07ea"
      },
      "outputs": [
        {
          "name": "stdout",
          "output_type": "stream",
          "text": [
            "*************************************************\n",
            "number of classes : 10\n",
            "*************************************************\n"
          ]
        }
      ],
      "source": [
        "print('*************************************************')\n",
        "print('number of classes :', len(set(y_train)))\n",
        "print('*************************************************')"
      ]
    },
    {
      "cell_type": "markdown",
      "metadata": {
        "id": "aa8V77doZQuQ"
      },
      "source": [
        "## hyper-parameters"
      ]
    },
    {
      "cell_type": "code",
      "execution_count": 496,
      "metadata": {
        "id": "3HQNK8jyZQuR"
      },
      "outputs": [],
      "source": [
        "device          = torch.device('cuda' if torch.cuda.is_available() else 'cpu')\n",
        "\n",
        "number_epoch    = 200\n",
        "size_minibatch  = 32\n",
        "learning_rate   = 0.01\n",
        "weight_decay    = 1e-2"
      ]
    },
    {
      "cell_type": "markdown",
      "metadata": {
        "id": "rOWqBMKEZQuR"
      },
      "source": [
        "## custom data loader for the PyTorch framework"
      ]
    },
    {
      "cell_type": "code",
      "execution_count": 497,
      "metadata": {
        "id": "wL0MGfYnZQuS"
      },
      "outputs": [],
      "source": [
        "class dataset(Dataset):\n",
        "    \n",
        "    def __init__(self, image, label):\n",
        "        \n",
        "        self.image  = image\n",
        "        self.label  = label.astype(np.long)\n",
        "    \n",
        "    def __getitem__(self, index):\n",
        "        \n",
        "        image   = self.image[index, :, :]\n",
        "        label   = self.label[index, ]\n",
        "\n",
        "        image   = torch.FloatTensor(image).unsqueeze(dim=0)\n",
        "        label   = torch.LongTensor([label])\n",
        "\n",
        "        return image, label\n",
        "    \n",
        "    def __len__(self):\n",
        "        \n",
        "        return self.image.shape[0]\n",
        "\n",
        "    def collate_fn(self, batch):\n",
        "        images  = list()\n",
        "        labels  = list()\n",
        "\n",
        "        for b in batch:\n",
        "            images.append(b[0])\n",
        "            labels.append(b[1])\n",
        "\n",
        "        images  = torch.stack(images, dim=0)\n",
        "        labels  = torch.stack(labels, dim=0).squeeze()\n",
        "\n",
        "        return images, labels\n",
        "        "
      ]
    },
    {
      "cell_type": "markdown",
      "metadata": {
        "id": "rEvnhTGNZQuS"
      },
      "source": [
        "## construct datasets and dataloaders for training and testing"
      ]
    },
    {
      "cell_type": "code",
      "execution_count": 498,
      "metadata": {
        "id": "y-75-N4dZQuT"
      },
      "outputs": [
        {
          "name": "stderr",
          "output_type": "stream",
          "text": [
            "/var/folders/w9/637nw81x1fx3k9pwrz27jx6h0000gn/T/ipykernel_97827/1216041582.py:6: DeprecationWarning: `np.long` is a deprecated alias for `np.compat.long`. To silence this warning, use `np.compat.long` by itself. In the likely event your code does not need to work on Python 2 you can use the builtin `int` for which `np.compat.long` is itself an alias. Doing this will not modify any behaviour and is safe. When replacing `np.long`, you may wish to use e.g. `np.int64` or `np.int32` to specify the precision. If you wish to review your current use, check the release note link for additional information.\n",
            "Deprecated in NumPy 1.20; for more details and guidance: https://numpy.org/devdocs/release/1.20.0-notes.html#deprecations\n",
            "  self.label  = label.astype(np.long)\n"
          ]
        }
      ],
      "source": [
        "dataset_train   = dataset(x_train, y_train)\n",
        "dataset_test    = dataset(x_test, y_test)\n",
        "\n",
        "dataloader_train    = torch.utils.data.DataLoader(dataset_train, batch_size=size_minibatch, shuffle=True, drop_last=True, collate_fn=dataset_train.collate_fn)\n",
        "dataloader_test     = torch.utils.data.DataLoader(dataset_test, batch_size=size_minibatch, shuffle=True, drop_last=True, collate_fn=dataset_test.collate_fn)"
      ]
    },
    {
      "cell_type": "markdown",
      "metadata": {
        "id": "Ua_bjNjAZQuT"
      },
      "source": [
        "## shape of the data when using the data loader"
      ]
    },
    {
      "cell_type": "code",
      "execution_count": 499,
      "metadata": {
        "colab": {
          "base_uri": "https://localhost:8080/"
        },
        "id": "GrUttDJvZQuU",
        "outputId": "d4427224-ce31-4dd6-801f-f1ce73b5d817"
      },
      "outputs": [
        {
          "name": "stdout",
          "output_type": "stream",
          "text": [
            "************************************************************\n",
            "size of mini-batch of the image: torch.Size([32, 1, 32, 32])\n",
            "************************************************************\n",
            "size of mini-batch of the label: torch.Size([32])\n",
            "************************************************************\n"
          ]
        }
      ],
      "source": [
        "image, label    = next(iter(dataloader_train))\n",
        "print('************************************************************')\n",
        "print('size of mini-batch of the image:', image.shape)\n",
        "print('************************************************************')\n",
        "print('size of mini-batch of the label:', label.shape)\n",
        "print('************************************************************')"
      ]
    },
    {
      "cell_type": "markdown",
      "metadata": {
        "id": "onTd5fddZQuU"
      },
      "source": [
        "## class for the neural network "
      ]
    },
    {
      "cell_type": "code",
      "execution_count": 500,
      "metadata": {
        "id": "VXfV63_6ZQuV"
      },
      "outputs": [],
      "source": [
        "class Classifier(nn.Module):\n",
        "    def __init__(self):\n",
        "        super(Classifier, self).__init__()\n",
        "\n",
        "        self.feature    = nn.Sequential(\n",
        "            nn.Conv2d(in_channels=1, out_channels=2, kernel_size=2, stride=1, padding=1, bias=True),\n",
        "            nn.MaxPool2d(kernel_size=2, stride=2),\n",
        "            nn.ReLU(),\n",
        "\n",
        "            nn.Conv2d(in_channels=2, out_channels=4, kernel_size=2, stride=1, padding=1, bias=True),\n",
        "            nn.MaxPool2d(kernel_size=2, stride=2),\n",
        "            nn.ReLU(),\n",
        "\n",
        "            nn.Conv2d(in_channels=4, out_channels=8, kernel_size=2, stride=1, padding=1, bias=True),\n",
        "            nn.MaxPool2d(kernel_size=2, stride=2),\n",
        "            nn.ReLU(),\n",
        "        )\n",
        "\n",
        "        self.classifier = nn.Sequential(\n",
        "            nn.Linear(128, 64, bias=True),\n",
        "            nn.ReLU(),\n",
        "            nn.Linear(64, 10, bias=True),\n",
        "        )\n",
        "\n",
        "        self.network    = nn.Sequential(\n",
        "            self.feature,\n",
        "            nn.Flatten(),\n",
        "            self.classifier,\n",
        "        )\n",
        "\n",
        "        self.initialize()\n",
        "\n",
        "\n",
        "    def initialize(self):\n",
        "\n",
        "        for m in self.network.modules():\n",
        "\n",
        "            if isinstance(m, nn.Conv2d):\n",
        "\n",
        "                nn.init.xavier_uniform_(m.weight)\n",
        "                nn.init.constant_(m.bias, 1)\n",
        "\n",
        "            elif isinstance(m, nn.Linear):\n",
        "\n",
        "                nn.init.xavier_uniform_(m.weight)\n",
        "                nn.init.constant_(m.bias, 1)\n",
        "\n",
        "\n",
        "    def forward(self, input):\n",
        "\n",
        "        output = self.network(input)\n",
        "\n",
        "        return output\n",
        "\n",
        "    "
      ]
    },
    {
      "cell_type": "markdown",
      "metadata": {
        "id": "ZbvNeVkeZQuV"
      },
      "source": [
        "## build network"
      ]
    },
    {
      "cell_type": "code",
      "execution_count": 501,
      "metadata": {
        "id": "2xmWyy-eZQuV"
      },
      "outputs": [],
      "source": [
        "classifier  = Classifier().to(device)\n",
        "optimizer   = torch.optim.SGD(classifier.parameters(), lr=learning_rate, weight_decay=weight_decay)"
      ]
    },
    {
      "cell_type": "markdown",
      "metadata": {
        "id": "B4VY6HNcZQuW"
      },
      "source": [
        "## print the defined neural network"
      ]
    },
    {
      "cell_type": "code",
      "execution_count": 502,
      "metadata": {
        "colab": {
          "base_uri": "https://localhost:8080/"
        },
        "id": "rsBc4z3dZQuW",
        "outputId": "030da802-75a0-48d6-f120-4784a359a7b9"
      },
      "outputs": [
        {
          "name": "stdout",
          "output_type": "stream",
          "text": [
            "Classifier(\n",
            "  (feature): Sequential(\n",
            "    (0): Conv2d(1, 2, kernel_size=(2, 2), stride=(1, 1), padding=(1, 1))\n",
            "    (1): MaxPool2d(kernel_size=2, stride=2, padding=0, dilation=1, ceil_mode=False)\n",
            "    (2): ReLU()\n",
            "    (3): Conv2d(2, 4, kernel_size=(2, 2), stride=(1, 1), padding=(1, 1))\n",
            "    (4): MaxPool2d(kernel_size=2, stride=2, padding=0, dilation=1, ceil_mode=False)\n",
            "    (5): ReLU()\n",
            "    (6): Conv2d(4, 8, kernel_size=(2, 2), stride=(1, 1), padding=(1, 1))\n",
            "    (7): MaxPool2d(kernel_size=2, stride=2, padding=0, dilation=1, ceil_mode=False)\n",
            "    (8): ReLU()\n",
            "  )\n",
            "  (classifier): Sequential(\n",
            "    (0): Linear(in_features=128, out_features=64, bias=True)\n",
            "    (1): ReLU()\n",
            "    (2): Linear(in_features=64, out_features=10, bias=True)\n",
            "  )\n",
            "  (network): Sequential(\n",
            "    (0): Sequential(\n",
            "      (0): Conv2d(1, 2, kernel_size=(2, 2), stride=(1, 1), padding=(1, 1))\n",
            "      (1): MaxPool2d(kernel_size=2, stride=2, padding=0, dilation=1, ceil_mode=False)\n",
            "      (2): ReLU()\n",
            "      (3): Conv2d(2, 4, kernel_size=(2, 2), stride=(1, 1), padding=(1, 1))\n",
            "      (4): MaxPool2d(kernel_size=2, stride=2, padding=0, dilation=1, ceil_mode=False)\n",
            "      (5): ReLU()\n",
            "      (6): Conv2d(4, 8, kernel_size=(2, 2), stride=(1, 1), padding=(1, 1))\n",
            "      (7): MaxPool2d(kernel_size=2, stride=2, padding=0, dilation=1, ceil_mode=False)\n",
            "      (8): ReLU()\n",
            "    )\n",
            "    (1): Flatten(start_dim=1, end_dim=-1)\n",
            "    (2): Sequential(\n",
            "      (0): Linear(in_features=128, out_features=64, bias=True)\n",
            "      (1): ReLU()\n",
            "      (2): Linear(in_features=64, out_features=10, bias=True)\n",
            "    )\n",
            "  )\n",
            ")\n"
          ]
        }
      ],
      "source": [
        "print(classifier)"
      ]
    },
    {
      "cell_type": "markdown",
      "metadata": {
        "id": "sf3horCOZQuW"
      },
      "source": [
        "## compute the prediction"
      ]
    },
    {
      "cell_type": "code",
      "execution_count": 503,
      "metadata": {
        "id": "NBLnU_uNZQuW"
      },
      "outputs": [],
      "source": [
        "def compute_prediction(model, input):\n",
        "\n",
        "    prediction = model(input)\n",
        "\n",
        "    return prediction"
      ]
    },
    {
      "cell_type": "markdown",
      "metadata": {
        "id": "RiHISufwZQuX"
      },
      "source": [
        "## compute the loss"
      ]
    },
    {
      "cell_type": "code",
      "execution_count": 504,
      "metadata": {
        "id": "mZ1lLZd9ZQuX"
      },
      "outputs": [],
      "source": [
        "def compute_loss(prediction, label):\n",
        "\n",
        "    criterion   = nn.CrossEntropyLoss()\n",
        "    loss        = criterion(prediction, label)\n",
        "    loss_value  = loss.item()\n",
        "\n",
        "    return loss, loss_value"
      ]
    },
    {
      "cell_type": "markdown",
      "metadata": {
        "id": "QQIXJkRCZQuX"
      },
      "source": [
        "## compute the accuracy"
      ]
    },
    {
      "cell_type": "markdown",
      "metadata": {},
      "source": []
    },
    {
      "cell_type": "code",
      "execution_count": 505,
      "metadata": {
        "id": "nIyKeobkZQuX"
      },
      "outputs": [],
      "source": [
        "def compute_accuracy(prediction, label):\n",
        "    # ================================================================================ \n",
        "    # complete the function body \n",
        "    accuracy = torch.argmax(prediction, dim=1)\n",
        "    # ================================================================================ \n",
        "\n",
        "    return (accuracy == label).to(torch.float).mean().item()"
      ]
    },
    {
      "cell_type": "markdown",
      "metadata": {
        "id": "W-EnbpC6ZQuY"
      },
      "source": [
        "## variables for the learning curve"
      ]
    },
    {
      "cell_type": "code",
      "execution_count": 506,
      "metadata": {
        "id": "ieVnu_WOZQuY"
      },
      "outputs": [],
      "source": [
        "loss_mean_train     = np.zeros(number_epoch)\n",
        "loss_std_train      = np.zeros(number_epoch)\n",
        "accuracy_mean_train = np.zeros(number_epoch)\n",
        "accuracy_std_train  = np.zeros(number_epoch)\n",
        "\n",
        "loss_mean_test      = np.zeros(number_epoch)\n",
        "loss_std_test       = np.zeros(number_epoch)\n",
        "accuracy_mean_test  = np.zeros(number_epoch)\n",
        "accuracy_std_test   = np.zeros(number_epoch)"
      ]
    },
    {
      "cell_type": "markdown",
      "metadata": {
        "id": "HylzTSV-ZQuY"
      },
      "source": [
        "## train and test"
      ]
    },
    {
      "cell_type": "code",
      "execution_count": 507,
      "metadata": {
        "colab": {
          "base_uri": "https://localhost:8080/"
        },
        "id": "57VePH1zZQuY",
        "outputId": "2896c755-95c3-4473-de9d-c304eaf9e3cd"
      },
      "outputs": [
        {
          "name": "stderr",
          "output_type": "stream",
          "text": [
            "100%|██████████| 200/200 [06:27<00:00,  1.94s/it]\n"
          ]
        }
      ],
      "source": [
        "# ================================================================================\n",
        "# \n",
        "# iterations for epochs\n",
        "#\n",
        "# ================================================================================\n",
        "for i in tqdm(range(number_epoch)):\n",
        "    \n",
        "    # ================================================================================\n",
        "    # \n",
        "    # training\n",
        "    #\n",
        "    # ================================================================================\n",
        "    loss_train_epoch        = []\n",
        "    accuracy_train_epoch    = []\n",
        "\n",
        "    classifier.train()\n",
        "\n",
        "    for index_batch, (image_train, label_train) in enumerate(dataloader_train):\n",
        "\n",
        "        image_train = image_train.to(device)\n",
        "        label_train = label_train.to(device)\n",
        "        \n",
        "        prediction_train                = compute_prediction(classifier, image_train)\n",
        "        loss_train, loss_value_train    = compute_loss(prediction_train, label_train)\n",
        "        accuracy_train                  = compute_accuracy(prediction_train, label_train)\n",
        "\n",
        "        optimizer.zero_grad()\n",
        "        loss_train.backward()\n",
        "        optimizer.step()\n",
        "\n",
        "        loss_train_epoch.append(loss_value_train)\n",
        "        accuracy_train_epoch.append(accuracy_train * 100)\n",
        "\n",
        "    loss_mean_train[i]      = np.mean(loss_train_epoch)\n",
        "    loss_std_train[i]       = np.std(loss_train_epoch)\n",
        "\n",
        "    accuracy_mean_train[i]  = np.mean(accuracy_train_epoch)\n",
        "    accuracy_std_train[i]   = np.std(accuracy_train_epoch)\n",
        "\n",
        "    # ================================================================================\n",
        "    # \n",
        "    # testing\n",
        "    #\n",
        "    # ================================================================================\n",
        "    loss_test_epoch        = []\n",
        "    accuracy_test_epoch    = []\n",
        "\n",
        "    classifier.eval()\n",
        "\n",
        "    for index_batch, (image_test, label_test) in enumerate(dataloader_test):\n",
        "\n",
        "        image_test = image_test.to(device)\n",
        "        label_test = label_test.to(device)\n",
        "        \n",
        "        prediction_test             = compute_prediction(classifier, image_test)\n",
        "        loss_test, loss_value_test  = compute_loss(prediction_test, label_test)\n",
        "        accuracy_test               = compute_accuracy(prediction_test, label_test)\n",
        "\n",
        "        loss_test_epoch.append(loss_value_test)\n",
        "        accuracy_test_epoch.append(accuracy_test * 100)\n",
        "\n",
        "    loss_mean_test[i]      = np.mean(loss_test_epoch)\n",
        "    loss_std_test[i]       = np.std(loss_test_epoch)\n",
        "\n",
        "    accuracy_mean_test[i]  = np.mean(accuracy_test * 100)\n",
        "    accuracy_std_test[i]   = np.std(accuracy_test * 100)"
      ]
    },
    {
      "cell_type": "markdown",
      "metadata": {
        "id": "h1udfVOqZQuZ"
      },
      "source": [
        "## plot curve"
      ]
    },
    {
      "cell_type": "code",
      "execution_count": 508,
      "metadata": {
        "id": "I_YBZtjUZQuZ"
      },
      "outputs": [],
      "source": [
        "def plot_curve_error(data_mean, data_std, x_label, y_label, title):\n",
        "\n",
        "    plt.figure(figsize=(8, 6))\n",
        "    plt.title(title)\n",
        "\n",
        "    alpha = 0.3\n",
        "    \n",
        "    plt.plot(range(len(data_mean)), data_mean, '-', color = 'red')\n",
        "    plt.fill_between(range(len(data_mean)), data_mean - data_std, data_mean + data_std, facecolor = 'blue', alpha = alpha) \n",
        "    \n",
        "    plt.xlabel(x_label)\n",
        "    plt.ylabel(y_label)\n",
        "\n",
        "    plt.tight_layout()\n",
        "    plt.show()"
      ]
    },
    {
      "cell_type": "code",
      "execution_count": 509,
      "metadata": {
        "id": "t1Tl8PEsZQua"
      },
      "outputs": [],
      "source": [
        "def print_curve(data, index):\n",
        "    \n",
        "    for i in range(len(index)):\n",
        "\n",
        "        idx = index[i]\n",
        "        val = data[idx]\n",
        "\n",
        "        print('index = %2d, value = %12.10f' % (idx, val))"
      ]
    },
    {
      "cell_type": "code",
      "execution_count": 510,
      "metadata": {
        "id": "8RcSI5kVZQua"
      },
      "outputs": [],
      "source": [
        "def get_data_last(data, index_start):\n",
        "\n",
        "    data_last = data[index_start:]\n",
        "\n",
        "    return data_last"
      ]
    },
    {
      "cell_type": "code",
      "execution_count": 511,
      "metadata": {
        "id": "Aixhy9otZQua"
      },
      "outputs": [],
      "source": [
        "def get_max_last_range(data, index_start):\n",
        "\n",
        "    data_range = get_data_last(data, index_start)\n",
        "    value = data_range.max()\n",
        "\n",
        "    return value"
      ]
    },
    {
      "cell_type": "code",
      "execution_count": 512,
      "metadata": {
        "id": "x9YsTJtYZQub"
      },
      "outputs": [],
      "source": [
        "def get_min_last_range(data, index_start):\n",
        "\n",
        "    data_range = get_data_last(data, index_start)\n",
        "    value = data_range.min()\n",
        "\n",
        "    return value"
      ]
    },
    {
      "cell_type": "markdown",
      "metadata": {
        "id": "3DwRl5KqZQub"
      },
      "source": [
        "---"
      ]
    },
    {
      "cell_type": "markdown",
      "metadata": {
        "id": "dJu_zp5ZZQub"
      },
      "source": [
        "# functions for presenting the results"
      ]
    },
    {
      "cell_type": "markdown",
      "metadata": {
        "id": "3Al6r5kOZQuc"
      },
      "source": [
        "---"
      ]
    },
    {
      "cell_type": "code",
      "execution_count": 513,
      "metadata": {
        "id": "byR0-rr4ZQuc"
      },
      "outputs": [],
      "source": [
        "def function_result_01():\n",
        "\n",
        "    plot_curve_error(loss_mean_train, loss_std_train, 'epoch', 'loss', 'loss (training)')"
      ]
    },
    {
      "cell_type": "code",
      "execution_count": 514,
      "metadata": {
        "id": "hvWGwdORZQuc"
      },
      "outputs": [],
      "source": [
        "def function_result_02():\n",
        "\n",
        "    plot_curve_error(accuracy_mean_train, accuracy_std_train, 'epoch', 'accuracy', 'accuracy (training)')"
      ]
    },
    {
      "cell_type": "code",
      "execution_count": 515,
      "metadata": {
        "id": "A7hsdpImZQuc"
      },
      "outputs": [],
      "source": [
        "def function_result_03():\n",
        "    \n",
        "    plot_curve_error(loss_mean_test, loss_std_test, 'epoch', 'loss', 'loss (testing)')"
      ]
    },
    {
      "cell_type": "code",
      "execution_count": 516,
      "metadata": {
        "id": "r7NWpGUfZQuc"
      },
      "outputs": [],
      "source": [
        "def function_result_04():\n",
        "    \n",
        "    plot_curve_error(accuracy_mean_test, accuracy_std_test, 'epoch', 'accuracy', 'accuracy (testing)')"
      ]
    },
    {
      "cell_type": "code",
      "execution_count": 517,
      "metadata": {
        "id": "3zZQxnLPZQud"
      },
      "outputs": [],
      "source": [
        "def function_result_05():\n",
        "    \n",
        "    data_last = get_data_last(loss_mean_train, -10)\n",
        "    index = np.arange(0, 10)\n",
        "    print_curve(data_last, index)"
      ]
    },
    {
      "cell_type": "code",
      "execution_count": 518,
      "metadata": {
        "id": "cafoni-8ZQud"
      },
      "outputs": [],
      "source": [
        "def function_result_06():\n",
        "    \n",
        "    data_last = get_data_last(accuracy_mean_train, -10)\n",
        "    index = np.arange(0, 10)\n",
        "    print_curve(data_last, index)"
      ]
    },
    {
      "cell_type": "code",
      "execution_count": 519,
      "metadata": {
        "id": "NdlE_NlmZQud"
      },
      "outputs": [],
      "source": [
        "def function_result_07():\n",
        "    \n",
        "    data_last = get_data_last(loss_mean_test, -10)\n",
        "    index = np.arange(0, 10)\n",
        "    print_curve(data_last, index)"
      ]
    },
    {
      "cell_type": "code",
      "execution_count": 520,
      "metadata": {
        "id": "6pWfdIEFZQud"
      },
      "outputs": [],
      "source": [
        "def function_result_08():\n",
        "    \n",
        "    data_last = get_data_last(accuracy_mean_test, -10)\n",
        "    index = np.arange(0, 10)\n",
        "    print_curve(data_last, index)"
      ]
    },
    {
      "cell_type": "code",
      "execution_count": 521,
      "metadata": {
        "id": "Uuyq5nQeZQue"
      },
      "outputs": [],
      "source": [
        "def function_result_09():\n",
        "    \n",
        "    value = get_max_last_range(accuracy_mean_train, -10)\n",
        "    print('best training accuracy = %12.10f' % (value))"
      ]
    },
    {
      "cell_type": "code",
      "execution_count": 522,
      "metadata": {
        "id": "hxVOqP_1ZQue"
      },
      "outputs": [],
      "source": [
        "def function_result_10():\n",
        "    \n",
        "    value = get_max_last_range(accuracy_mean_test, -10)\n",
        "    print('best testing accuracy = %12.10f' % (value))"
      ]
    },
    {
      "cell_type": "markdown",
      "metadata": {
        "id": "yvZojN-uZQue"
      },
      "source": [
        "---"
      ]
    },
    {
      "cell_type": "markdown",
      "metadata": {
        "id": "J_LcpVHdZQue"
      },
      "source": [
        "# RESULTS"
      ]
    },
    {
      "cell_type": "markdown",
      "metadata": {
        "id": "Z91_nIhtZQuf"
      },
      "source": [
        "---"
      ]
    },
    {
      "cell_type": "markdown",
      "metadata": {
        "id": "XxNivYe_ZQuf"
      },
      "source": [
        "## # 01. plot the training loss curve (mean, std)"
      ]
    },
    {
      "cell_type": "code",
      "execution_count": 523,
      "metadata": {
        "id": "cKkNppl3ZQuf",
        "outputId": "77535269-bb2b-4bbd-a233-d4c66f90a4a3"
      },
      "outputs": [
        {
          "data": {
            "image/png": "[encoded data removed]",
            "text/plain": [
              "<Figure size 576x432 with 1 Axes>"
            ]
          },
          "metadata": {
            "needs_background": "light"
          },
          "output_type": "display_data"
        }
      ],
      "source": [
        "function_result_01()"
      ]
    },
    {
      "cell_type": "markdown",
      "metadata": {
        "id": "dBCw9MHUZQuf"
      },
      "source": [
        "## # 02. plot the training accuracy curve (mean, std)"
      ]
    },
    {
      "cell_type": "code",
      "execution_count": 524,
      "metadata": {
        "id": "ohd20fMyZQuf",
        "outputId": "5ff0ff61-eac8-43fc-b43b-b7a970c2ef35"
      },
      "outputs": [
        {
          "data": {
            "image/png": "[encoded data removed]",
            "text/plain": [
              "<Figure size 576x432 with 1 Axes>"
            ]
          },
          "metadata": {
            "needs_background": "light"
          },
          "output_type": "display_data"
        }
      ],
      "source": [
        "function_result_02()"
      ]
    },
    {
      "cell_type": "markdown",
      "metadata": {
        "id": "MZgGABLZZQug"
      },
      "source": [
        "## # 03. plot the testing loss curve (mean, std)"
      ]
    },
    {
      "cell_type": "code",
      "execution_count": 525,
      "metadata": {
        "id": "CqAUQMkpZQug",
        "outputId": "82e64fce-a52c-474b-af1f-129d556168fb"
      },
      "outputs": [
        {
          "data": {
            "image/png": "[encoded data removed]",
            "text/plain": [
              "<Figure size 576x432 with 1 Axes>"
            ]
          },
          "metadata": {
            "needs_background": "light"
          },
          "output_type": "display_data"
        }
      ],
      "source": [
        "function_result_03()"
      ]
    },
    {
      "cell_type": "markdown",
      "metadata": {
        "id": "hrA10j5aZQug"
      },
      "source": [
        "## # 04. plot the testing accuracy curve (mean, std)"
      ]
    },
    {
      "cell_type": "code",
      "execution_count": 526,
      "metadata": {
        "id": "vAShQtIZZQug",
        "outputId": "4e8854ba-adcc-4128-cea9-d61a98e55659"
      },
      "outputs": [
        {
          "data": {
            "image/png": "[encoded data removed]",
            "text/plain": [
              "<Figure size 576x432 with 1 Axes>"
            ]
          },
          "metadata": {
            "needs_background": "light"
          },
          "output_type": "display_data"
        }
      ],
      "source": [
        "function_result_04()"
      ]
    },
    {
      "cell_type": "markdown",
      "metadata": {
        "id": "IcV1fo-kZQug"
      },
      "source": [
        "## # 05. print the training (mean) loss over batches at last 10 epochs"
      ]
    },
    {
      "cell_type": "code",
      "execution_count": 527,
      "metadata": {
        "id": "H4YxpWiCZQug",
        "outputId": "61cdda02-8797-427c-8e13-1b15e943b14a"
      },
      "outputs": [
        {
          "name": "stdout",
          "output_type": "stream",
          "text": [
            "index =  0, value = 0.0968906459\n",
            "index =  1, value = 0.0995608718\n",
            "index =  2, value = 0.0981985677\n",
            "index =  3, value = 0.0996735068\n",
            "index =  4, value = 0.0996978744\n",
            "index =  5, value = 0.0960659398\n",
            "index =  6, value = 0.0996193586\n",
            "index =  7, value = 0.0989682940\n",
            "index =  8, value = 0.0997554468\n",
            "index =  9, value = 0.0992461143\n"
          ]
        }
      ],
      "source": [
        "function_result_05()"
      ]
    },
    {
      "cell_type": "markdown",
      "metadata": {
        "id": "xynn5iwvZQuh"
      },
      "source": [
        "## # 06. print the training (mean) accuracy over batches at last 10 epochs"
      ]
    },
    {
      "cell_type": "code",
      "execution_count": 528,
      "metadata": {
        "id": "kKMtz37uZQuh",
        "outputId": "a1f306d2-0018-4275-a58b-0eff21511b55"
      },
      "outputs": [
        {
          "name": "stdout",
          "output_type": "stream",
          "text": [
            "index =  0, value = 97.2550000000\n",
            "index =  1, value = 97.1350000000\n",
            "index =  2, value = 97.1250000000\n",
            "index =  3, value = 97.0800000000\n",
            "index =  4, value = 97.2000000000\n",
            "index =  5, value = 97.4000000000\n",
            "index =  6, value = 97.1100000000\n",
            "index =  7, value = 97.2000000000\n",
            "index =  8, value = 97.1100000000\n",
            "index =  9, value = 97.1600000000\n"
          ]
        }
      ],
      "source": [
        "function_result_06()"
      ]
    },
    {
      "cell_type": "markdown",
      "metadata": {
        "id": "RvTb9Q8SZQuh"
      },
      "source": [
        "## # 07. print the testing (mean) loss over batches at last 10 epochs"
      ]
    },
    {
      "cell_type": "code",
      "execution_count": 529,
      "metadata": {
        "id": "QRZtK4dbZQuh",
        "outputId": "a5050277-8144-4449-aa45-6c0e5c1ddac1"
      },
      "outputs": [
        {
          "name": "stdout",
          "output_type": "stream",
          "text": [
            "index =  0, value = 0.1353390013\n",
            "index =  1, value = 0.1043560060\n",
            "index =  2, value = 0.1041645079\n",
            "index =  3, value = 0.1123503683\n",
            "index =  4, value = 0.1098475208\n",
            "index =  5, value = 0.1183447063\n",
            "index =  6, value = 0.1178297941\n",
            "index =  7, value = 0.1087749762\n",
            "index =  8, value = 0.1174676687\n",
            "index =  9, value = 0.1236411180\n"
          ]
        }
      ],
      "source": [
        "function_result_07()"
      ]
    },
    {
      "cell_type": "markdown",
      "metadata": {
        "id": "QRfanc6eZQui"
      },
      "source": [
        "## # 08. print the testing (mean) accuracy over batches at last 10 epochs"
      ]
    },
    {
      "cell_type": "code",
      "execution_count": 530,
      "metadata": {
        "id": "8GbUv_d6ZQui",
        "outputId": "d8126c62-f1df-47a2-e859-fe30945744f1"
      },
      "outputs": [
        {
          "name": "stdout",
          "output_type": "stream",
          "text": [
            "index =  0, value = 96.8750000000\n",
            "index =  1, value = 96.8750000000\n",
            "index =  2, value = 100.0000000000\n",
            "index =  3, value = 100.0000000000\n",
            "index =  4, value = 96.8750000000\n",
            "index =  5, value = 90.6250000000\n",
            "index =  6, value = 93.7500000000\n",
            "index =  7, value = 93.7500000000\n",
            "index =  8, value = 96.8750000000\n",
            "index =  9, value = 93.7500000000\n"
          ]
        }
      ],
      "source": [
        "function_result_08()"
      ]
    },
    {
      "cell_type": "markdown",
      "metadata": {
        "id": "5MLfVgqMZQui"
      },
      "source": [
        "## # 09. print the best training (mean) accuracy within the last 10 epochs"
      ]
    },
    {
      "cell_type": "code",
      "execution_count": 531,
      "metadata": {
        "id": "g50zm2V3ZQui",
        "outputId": "27bb363a-f854-4d5e-bf44-806a4c712d35"
      },
      "outputs": [
        {
          "name": "stdout",
          "output_type": "stream",
          "text": [
            "best training accuracy = 97.4000000000\n"
          ]
        }
      ],
      "source": [
        "function_result_09()"
      ]
    },
    {
      "cell_type": "markdown",
      "metadata": {
        "id": "Kx8YkR5dZQuj"
      },
      "source": [
        "## # 10. print the best testing (mean) accuracy within the last 10 epochs"
      ]
    },
    {
      "cell_type": "code",
      "execution_count": 532,
      "metadata": {
        "id": "4_rrDJG4ZQuj",
        "outputId": "5ba25645-6456-4040-9feb-55284c213ec3"
      },
      "outputs": [
        {
          "name": "stdout",
          "output_type": "stream",
          "text": [
            "best testing accuracy = 100.0000000000\n"
          ]
        }
      ],
      "source": [
        "function_result_10()"
      ]
    }
  ],
  "metadata": {
    "accelerator": "GPU",
    "colab": {
      "collapsed_sections": [],
      "include_colab_link": true,
      "name": "assignment_02.ipynb",
      "provenance": []
    },
    "interpreter": {
      "hash": "52ee2977380704a66854748a73250e0671a9318bd5b3fd45a3df9f851ae61629"
    },
    "kernelspec": {
      "display_name": "Python 3.8.5 64-bit ('tf': conda)",
      "name": "python3"
    },
    "language_info": {
      "codemirror_mode": {
        "name": "ipython",
        "version": 3
      },
      "file_extension": ".py",
      "mimetype": "text/x-python",
      "name": "python",
      "nbconvert_exporter": "python",
      "pygments_lexer": "ipython3",
      "version": "3.8.12"
    }
  },
  "nbformat": 4,
  "nbformat_minor": 0
}
