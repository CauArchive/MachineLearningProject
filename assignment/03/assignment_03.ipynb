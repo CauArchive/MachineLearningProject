{
  "nbformat": 4,
  "nbformat_minor": 0,
  "metadata": {
    "colab": {
      "name": "assignment_02.ipynb",
      "provenance": [],
      "collapsed_sections": [],
      "include_colab_link": true
    },
    "kernelspec": {
      "name": "python3",
      "display_name": "Python 3.8.8 64-bit ('base': conda)"
    },
    "language_info": {
      "name": "python",
      "version": "3.8.8",
      "mimetype": "text/x-python",
      "codemirror_mode": {
        "name": "ipython",
        "version": 3
      },
      "pygments_lexer": "ipython3",
      "nbconvert_exporter": "python",
      "file_extension": ".py"
    },
    "interpreter": {
      "hash": "dca0ade3e726a953b501b15e8e990130d2b7799f14cfd9f4271676035ebe5511"
    }
  },
  "cells": [
    {
      "cell_type": "markdown",
      "metadata": {
        "id": "view-in-github",
        "colab_type": "text"
      },
      "source": [
        "<a href=\"https://colab.research.google.com/github/woodi97/MachineLearningProject/blob/main/assignment/03/assignment_03.ipynb\" target=\"_parent\"><img src=\"https://colab.research.google.com/assets/colab-badge.svg\" alt=\"Open In Colab\"/></a>"
      ]
    },
    {
      "cell_type": "markdown",
      "metadata": {
        "id": "K29I-OwCEYzW",
        "outputId": "db8b297c-a4b8-457a-b43f-7570135306c7"
      },
      "source": [
        "# Logistic regression for binary classification"
      ]
    },
    {
      "cell_type": "markdown",
      "metadata": {
        "id": "DEhTAB9X1FGi"
      },
      "source": [
        "## import libraries"
      ]
    },
    {
      "cell_type": "code",
      "metadata": {
        "id": "PRZ9-PGc1FGj"
      },
      "source": [
        "import numpy as np\n",
        "import matplotlib.pyplot as plt\n",
        "import os\n",
        "from tqdm import tqdm"
      ],
      "execution_count": null,
      "outputs": []
    },
    {
      "cell_type": "markdown",
      "metadata": {
        "id": "sK4rYjkF1FGl"
      },
      "source": [
        "## load data"
      ]
    },
    {
      "cell_type": "code",
      "metadata": {
        "id": "SGF9JYe21FGm",
        "colab": {
          "base_uri": "https://localhost:8080/"
        },
        "outputId": "82270104-71a1-4fe5-acc2-df9cec48369a"
      },
      "source": [
        "directory_data  = './data/'\n",
        "filename_data   = 'assignment_03_data.npz'\n",
        "data            = np.load(os.path.join(directory_data, filename_data))\n",
        "\n",
        "x_train = data['x_train']\n",
        "y_train = data['y_train']\n",
        "\n",
        "x_test  = data['x_test']\n",
        "y_test  = data['y_test']\n",
        "\n",
        "print('*************************************************')\n",
        "print('size of x_train :', x_train.shape)\n",
        "print('size of y_train :', y_train.shape)\n",
        "print('*************************************************')\n",
        "print('size of x_test :', x_test.shape)\n",
        "print('size of y_test :', y_test.shape)\n",
        "print('*************************************************')\n",
        "print('number of training image :', x_train.shape[0])\n",
        "print('height of training image :', x_train.shape[1])\n",
        "print('width of training image :', x_train.shape[2])\n",
        "print('*************************************************')\n",
        "print('number of testing image :', x_test.shape[0])\n",
        "print('height of testing image :', x_test.shape[1])\n",
        "print('width of testing image :', x_test.shape[2])\n",
        "print('*************************************************')"
      ],
      "execution_count": null,
      "outputs": [
        {
          "output_type": "stream",
          "name": "stdout",
          "text": [
            "*************************************************\n",
            "size of x_train : (10000, 28, 28)\n",
            "size of y_train : (10000,)\n",
            "*************************************************\n",
            "size of x_test : (1800, 28, 28)\n",
            "size of y_test : (1800,)\n",
            "*************************************************\n",
            "number of training image : 10000\n",
            "height of training image : 28\n",
            "width of training image : 28\n",
            "*************************************************\n",
            "number of testing image : 1800\n",
            "height of testing image : 28\n",
            "width of testing image : 28\n",
            "*************************************************\n"
          ]
        }
      ]
    },
    {
      "cell_type": "markdown",
      "metadata": {
        "id": "YlZCFYCN1FGo"
      },
      "source": [
        "```console\n",
        "\n",
        "$ git commit -m \"Successfully Import Assignment_03 training data\" assignment_03.ipynb\n",
        "\n",
        "```"
      ]
    },
    {
      "cell_type": "markdown",
      "metadata": {
        "id": "U1jczzAq1FGo"
      },
      "source": [
        "## vectorize image data"
      ]
    },
    {
      "cell_type": "code",
      "metadata": {
        "id": "q_kAqB0Y1FGq",
        "colab": {
          "base_uri": "https://localhost:8080/"
        },
        "outputId": "d40cf00d-bade-4dfe-c454-b3e4ec4b0619"
      },
      "source": [
        "vector_x_train  = x_train.reshape(x_train.shape[0], x_train.shape[1] * x_train.shape[2])\n",
        "vector_x_test   = x_test.reshape(x_test.shape[0], x_test.shape[1] * x_test.shape[2])\n",
        "\n",
        "print(vector_x_train.shape)\n",
        "print(vector_x_test.shape)"
      ],
      "execution_count": null,
      "outputs": [
        {
          "output_type": "stream",
          "name": "stdout",
          "text": [
            "(10000, 784)\n",
            "(1800, 784)\n"
          ]
        }
      ]
    },
    {
      "cell_type": "markdown",
      "metadata": {
        "id": "o7OYXJEM1FGr"
      },
      "source": [
        "```console\n",
        "\n",
        "$ git commit -m \"Complete Vectorize Image Data\" assignment_03.ipynb\n",
        "\n",
        "```"
      ]
    },
    {
      "cell_type": "markdown",
      "metadata": {
        "id": "J9VVaiWx1FGs"
      },
      "source": [
        "## index for each class"
      ]
    },
    {
      "cell_type": "code",
      "metadata": {
        "id": "wfJdLHi31FGs"
      },
      "source": [
        "index_train_0 = [i for i, v in enumerate(y_train) if v==0]\n",
        "index_train_1 = [i for i, v in enumerate(y_train) if v==1]\n",
        "\n",
        "index_test_0 = [i for i, v in enumerate(y_test) if v==0]\n",
        "index_test_1 = [i for i, v in enumerate(y_test) if v==1]"
      ],
      "execution_count": null,
      "outputs": []
    },
    {
      "cell_type": "markdown",
      "metadata": {
        "id": "J_7fzXmH1FGt"
      },
      "source": [
        "```console\n",
        "\n",
        "$ git commit -m \"Complete Get Index of y_train & y_test\" assignment_03.ipynb\n",
        "\n",
        "```"
      ]
    },
    {
      "cell_type": "markdown",
      "metadata": {
        "id": "AL2uwAwx1FGt"
      },
      "source": [
        "## plot data"
      ]
    },
    {
      "cell_type": "code",
      "metadata": {
        "id": "qWiGAY9T1FGu"
      },
      "source": [
        "def plot_data_grid(data, index_data, nRow, nCol):\n",
        "\n",
        "    fig, axes = plt.subplots(nRow, nCol, constrained_layout=True, figsize=(nCol * 3, nRow * 3))\n",
        "\n",
        "    for i in range(nRow):\n",
        "        for j in range(nCol):\n",
        "\n",
        "            k       = i * nCol + j\n",
        "            index   = index_data[k]\n",
        "\n",
        "            axes[i, j].imshow(data[index], cmap='gray', vmin=0, vmax=1)\n",
        "            axes[i, j].xaxis.set_visible(False)\n",
        "            axes[i, j].yaxis.set_visible(False)\n",
        "\n",
        "    plt.show()"
      ],
      "execution_count": null,
      "outputs": []
    },
    {
      "cell_type": "code",
      "metadata": {
        "id": "1xma4KRt1FGu"
      },
      "source": [
        "nRow    = 2\n",
        "nCol    = 4\n",
        "nPlot   = nRow * nCol"
      ],
      "execution_count": null,
      "outputs": []
    },
    {
      "cell_type": "code",
      "metadata": {
        "id": "0VPFH7y41FGu",
        "colab": {
          "base_uri": "https://localhost:8080/",
          "height": 456
        },
        "outputId": "adeeab64-727a-4ac1-e8d0-0841d4b96c3b"
      },
      "source": [
        "\n",
        "index_data_0 = np.array(range(nPlot))\n",
        "plot_data_grid(x_train, index_data_0, nRow, nCol)"
      ],
      "execution_count": null,
      "outputs": [
        {
          "output_type": "display_data",
          "data": {
            "image/png": "[encoded data removed]",
            "text/plain": [
              "<Figure size 864x432 with 8 Axes>"
            ]
          },
          "metadata": {
            "needs_background": "light"
          }
        }
      ]
    },
    {
      "cell_type": "code",
      "metadata": {
        "id": "PEv2oA2Y1FGv",
        "colab": {
          "base_uri": "https://localhost:8080/",
          "height": 456
        },
        "outputId": "147cfd92-c87b-4eeb-86f9-cbace6d79c82"
      },
      "source": [
        "index_data_1 = index_data_0 + 5000\n",
        "plot_data_grid(x_train, index_data_1, nRow, nCol)"
      ],
      "execution_count": null,
      "outputs": [
        {
          "output_type": "display_data",
          "data": {
            "image/png": "[encoded data removed]",
            "text/plain": [
              "<Figure size 864x432 with 8 Axes>"
            ]
          },
          "metadata": {
            "needs_background": "light"
          }
        }
      ]
    },
    {
      "cell_type": "markdown",
      "metadata": {
        "id": "gbf8EatI1FGw"
      },
      "source": [
        "```console\n",
        "\n",
        "$ git commit -m \"Complete Plotting Data\" assignment_03.ipynb\n",
        "\n",
        "```"
      ]
    },
    {
      "cell_type": "markdown",
      "metadata": {
        "id": "2NQ8Nutw1FGw"
      },
      "source": [
        "## linear layer"
      ]
    },
    {
      "cell_type": "code",
      "metadata": {
        "id": "ebjrRJYp1FGw"
      },
      "source": [
        "def layer_linear(input, weight):\n",
        "    output = np.empty((input.shape[0]))\n",
        "    transposedWeight = np.transpose(weight)\n",
        "    for i in range(input.shape[0]):\n",
        "        output[i] = np.inner(transposedWeight, input[i])\n",
        "\n",
        "    return output"
      ],
      "execution_count": null,
      "outputs": []
    },
    {
      "cell_type": "markdown",
      "metadata": {
        "id": "LCgrOWs21FGx"
      },
      "source": [
        "```console\n",
        "\n",
        "$ git commit -m \"Complete the function for linear layer\" assignment_03.ipynb\n",
        "\n",
        "```"
      ]
    },
    {
      "cell_type": "markdown",
      "metadata": {
        "id": "NfyISF5Q1FGx"
      },
      "source": [
        "## activation function : Sigmoid"
      ]
    },
    {
      "cell_type": "code",
      "metadata": {
        "id": "eAr6WF181FGx"
      },
      "source": [
        "def activation_sigmoid(input):\n",
        "    output = np.empty((input.shape[0]))\n",
        "    for i in range(input.shape[0]):\n",
        "        z = np.exp(-input[i])\n",
        "        output[i] = 1/(1+z)\n",
        "\n",
        "    return output"
      ],
      "execution_count": null,
      "outputs": []
    },
    {
      "cell_type": "markdown",
      "metadata": {
        "id": "uXzBvNdx1FGx"
      },
      "source": [
        "```console\n",
        "\n",
        "$ git commit -m \"Complete the function for the sigmoid activation\" assignment_03.ipynb\n",
        "\n",
        "```"
      ]
    },
    {
      "cell_type": "markdown",
      "metadata": {
        "id": "6GCAo0h_1FGy"
      },
      "source": [
        "## compute prediction by the forward propagation of the neural network"
      ]
    },
    {
      "cell_type": "code",
      "metadata": {
        "id": "_-E-c1g61FGy"
      },
      "source": [
        "def compute_prediction(input, weight):\n",
        "\n",
        "    output      = layer_linear(input, weight)\n",
        "    prediction  = activation_sigmoid(output)\n",
        "\n",
        "    return prediction"
      ],
      "execution_count": null,
      "outputs": []
    },
    {
      "cell_type": "markdown",
      "metadata": {
        "id": "gnHE8V5q1FGy"
      },
      "source": [
        "```console\n",
        "\n",
        "$ git commit -m \"Complete the function for the compute prediction\" assignment_03.ipynb\n",
        "\n",
        "```"
      ]
    },
    {
      "cell_type": "markdown",
      "metadata": {
        "id": "a-cIF-rv1FGy"
      },
      "source": [
        "## compute loss function"
      ]
    },
    {
      "cell_type": "code",
      "metadata": {
        "id": "xdl-ROL91FGy"
      },
      "source": [
        "def compute_loss(prediction, label):\n",
        "    sum = 0.0\n",
        "    for i in range(prediction.shape[0]):\n",
        "      loss            = -(label[i]*np.log(prediction[i])+(1-label[i])*np.log(1-prediction[i]))\n",
        "      sum             += loss\n",
        "    loss_average    =  sum/prediction.shape[0]\n",
        "\n",
        "    return loss_average"
      ],
      "execution_count": null,
      "outputs": []
    },
    {
      "cell_type": "markdown",
      "metadata": {
        "id": "Bid79h3u1FGy"
      },
      "source": [
        "```console\n",
        "\n",
        "$ git commit -m \"Complete the function for the loss\" assignment_03.ipynb\n",
        "\n",
        "```"
      ]
    },
    {
      "cell_type": "markdown",
      "metadata": {
        "id": "aUrHLrW31FGz"
      },
      "source": [
        "## compute gradient"
      ]
    },
    {
      "cell_type": "code",
      "metadata": {
        "id": "Jmf8U3qn1FGz"
      },
      "source": [
        "def compute_gradient(input, prediction, label):\n",
        "    sum = 0.0\n",
        "    for i in range(input.shape[0]):\n",
        "      residual    = (prediction[i]-label[i]) * input[i]\n",
        "      sum         += residual\n",
        "    gradient    = sum/input.shape[0]\n",
        "\n",
        "    return gradient"
      ],
      "execution_count": null,
      "outputs": []
    },
    {
      "cell_type": "markdown",
      "metadata": {
        "id": "AYg7LYVl1FGz"
      },
      "source": [
        "```console\n",
        "\n",
        "$ git commit -m \"Complete the function for the computation of gradient\" assignment_03.ipynb\n",
        "\n",
        "```"
      ]
    },
    {
      "cell_type": "markdown",
      "metadata": {
        "id": "txYt2skt1FGz"
      },
      "source": [
        "## compute accuracy"
      ]
    },
    {
      "cell_type": "code",
      "metadata": {
        "id": "5glHaQLz1FGz"
      },
      "source": [
        "def compute_accuracy(prediction, label):\n",
        "    threshold   = 0.5\n",
        "    bCorrect = np.empty((prediction.shape[0]))\n",
        "    for i in range(prediction.shape[0]):\n",
        "      if prediction[i] >= threshold:\n",
        "        bCorrect[i]    =  1\n",
        "      else:\n",
        "        bCorrect[i]    =  0\n",
        "    accuracy    = np.sum(bCorrect) / len(label)\n",
        "\n",
        "    return accuracy"
      ],
      "execution_count": null,
      "outputs": []
    },
    {
      "cell_type": "markdown",
      "metadata": {
        "id": "MPzlVTfY1FGz"
      },
      "source": [
        "```console\n",
        "\n",
        "$ git commit -m \"Complete the function for the computation of accuracy\" assignment_03.ipynb\n",
        "\n",
        "```"
      ]
    },
    {
      "cell_type": "markdown",
      "metadata": {
        "id": "DiVaPv4R1FG0"
      },
      "source": [
        "## initialize weight"
      ]
    },
    {
      "cell_type": "code",
      "metadata": {
        "id": "k1K5i9tf1FG0",
        "colab": {
          "base_uri": "https://localhost:8080/"
        },
        "outputId": "9c4b2c63-3e49-4d22-ab21-de8a1060b697"
      },
      "source": [
        "length_weight   = vector_x_train.shape[1]\n",
        "weight          = np.ones(length_weight)\n",
        "weight          = weight * 0.001\n",
        "\n",
        "print('number of weights: ', length_weight)"
      ],
      "execution_count": null,
      "outputs": [
        {
          "output_type": "stream",
          "name": "stdout",
          "text": [
            "number of weights:  784\n"
          ]
        }
      ]
    },
    {
      "cell_type": "markdown",
      "metadata": {
        "id": "rVyFxVkB1FG0"
      },
      "source": [
        "```console\n",
        "\n",
        "$ git commit -m \"Complete Initialize weight\" assignment_03.ipynb\n",
        "\n",
        "```"
      ]
    },
    {
      "cell_type": "markdown",
      "metadata": {
        "id": "QNK5vQz51FG0"
      },
      "source": [
        "## hyper-parameters"
      ]
    },
    {
      "cell_type": "code",
      "metadata": {
        "id": "yfY_ctQw1FG0"
      },
      "source": [
        "number_iteration    = 1000\n",
        "learning_rate       = 0.1"
      ],
      "execution_count": null,
      "outputs": []
    },
    {
      "cell_type": "markdown",
      "metadata": {
        "id": "ZpeSVVIF1FG0"
      },
      "source": [
        "## variables for optimization information"
      ]
    },
    {
      "cell_type": "code",
      "metadata": {
        "id": "UHvJ33cE1FG0"
      },
      "source": [
        "loss_train_iteration        = np.zeros(number_iteration)\n",
        "loss_test_iteration         = np.zeros(number_iteration)\n",
        "\n",
        "accuracy_train_iteration    = np.zeros(number_iteration)\n",
        "accuracy_test_iteration     = np.zeros(number_iteration)\n",
        "\n",
        "pred_0_train_mean_iteration = np.zeros(number_iteration) \n",
        "pred_0_train_std_iteration  = np.zeros(number_iteration) \n",
        "pred_1_train_mean_iteration = np.zeros(number_iteration) \n",
        "pred_1_train_std_iteration  = np.zeros(number_iteration) \n",
        "\n",
        "pred_0_test_mean_iteration = np.zeros(number_iteration) \n",
        "pred_0_test_std_iteration  = np.zeros(number_iteration) \n",
        "pred_1_test_mean_iteration = np.zeros(number_iteration) \n",
        "pred_1_test_std_iteration  = np.zeros(number_iteration) "
      ],
      "execution_count": null,
      "outputs": []
    },
    {
      "cell_type": "markdown",
      "metadata": {
        "id": "K_5F-WBF1FG1"
      },
      "source": [
        "## gradient descent iterations"
      ]
    },
    {
      "cell_type": "code",
      "metadata": {
        "id": "xLUTeazR1FG1",
        "colab": {
          "base_uri": "https://localhost:8080/"
        },
        "outputId": "4fb8ed83-67b2-405c-b428-f5975b16515a"
      },
      "source": [
        "for i in tqdm(range(number_iteration)):\n",
        "\n",
        "    prediction_train    = compute_prediction(vector_x_train, weight)\n",
        "    prediction_test     = compute_prediction(vector_x_test, weight)\n",
        "\n",
        "    gradient_train      = compute_gradient(vector_x_train, prediction_train, y_train)\n",
        "    weight              = weight - learning_rate * gradient_train\n",
        "\n",
        "    prediction_train    = compute_prediction(vector_x_train, weight)\n",
        "    prediction_test     = compute_prediction(vector_x_test, weight)\n",
        "\n",
        "    loss_train          = compute_loss(prediction_train, y_train)\n",
        "    loss_test           = compute_loss(prediction_test, y_test)\n",
        "\n",
        "    accuracy_train      = compute_accuracy(prediction_train, y_train)\n",
        "    accuracy_test       = compute_accuracy(prediction_test, y_test)\n",
        "\n",
        "    pred_train_0    = prediction_train[index_train_0]\n",
        "    pred_train_1    = prediction_train[index_train_1]\n",
        "\n",
        "    pred_test_0     = prediction_test[index_test_0]\n",
        "    pred_test_1     = prediction_test[index_test_1]\n",
        "\n",
        "    pred_0_train_mean_iteration[i]  = np.mean(pred_train_0)\n",
        "    pred_0_train_std_iteration[i]   = np.std(pred_train_0)\n",
        "    pred_1_train_mean_iteration[i]  = np.mean(pred_train_1)\n",
        "    pred_1_train_std_iteration[i]   = np.std(pred_train_1)\n",
        "\n",
        "    pred_0_test_mean_iteration[i]   = np.mean(pred_train_0)\n",
        "    pred_0_test_std_iteration[i]    = np.std(pred_train_0)\n",
        "    pred_1_test_mean_iteration[i]   = np.mean(pred_train_1)\n",
        "    pred_1_test_std_iteration[i]    = np.std(pred_train_1)\n",
        "\n",
        "    loss_train_iteration[i]         = loss_train\n",
        "    loss_test_iteration[i]          = loss_test\n",
        "\n",
        "    accuracy_train_iteration[i]     = accuracy_train \n",
        "    accuracy_test_iteration[i]      = accuracy_test"
      ],
      "execution_count": null,
      "outputs": [
        {
          "output_type": "stream",
          "name": "stderr",
          "text": [
            "100%|██████████| 1000/1000 [03:59<00:00,  4.18it/s]\n"
          ]
        }
      ]
    },
    {
      "cell_type": "markdown",
      "metadata": {
        "id": "lMHel2421FG1"
      },
      "source": [
        "```console\n",
        "\n",
        "$ git commit -m \"Complete gradient descent iteration\" assignment_03.ipynb\n",
        "\n",
        "```"
      ]
    },
    {
      "cell_type": "markdown",
      "metadata": {
        "id": "fGqozxck1FG1"
      },
      "source": [
        "## plot curve"
      ]
    },
    {
      "cell_type": "code",
      "metadata": {
        "id": "Xo9IGQmn1FG1"
      },
      "source": [
        "def plot_curve(data, x_label, y_label, title):\n",
        "    \n",
        "    plt.figure(figsize=(8, 6))\n",
        "    plt.title(title)\n",
        "\n",
        "    plt.plot(range(len(data)), data, '-', color='red')\n",
        "    \n",
        "    plt.xlabel(x_label)\n",
        "    plt.ylabel(y_label)\n",
        "\n",
        "    plt.tight_layout()\n",
        "    plt.show()"
      ],
      "execution_count": null,
      "outputs": []
    },
    {
      "cell_type": "code",
      "metadata": {
        "id": "dzwlNaEQ1FG1"
      },
      "source": [
        "def plot_curve2(data1, label_data1, data2, label_data2, x_label, y_label, title):\n",
        "    \n",
        "    plt.figure(figsize=(8, 6))\n",
        "    plt.title(title)\n",
        "\n",
        "    plt.plot(range(len(data1)), data1, '-', color = 'blue', label = label_data1)\n",
        "    plt.plot(range(len(data2)), data2, '-', color = 'red', label = label_data2)\n",
        "     \n",
        "    plt.xlabel(x_label)\n",
        "    plt.ylabel(y_label)\n",
        "\n",
        "    plt.tight_layout()\n",
        "    plt.show()"
      ],
      "execution_count": null,
      "outputs": []
    },
    {
      "cell_type": "code",
      "metadata": {
        "id": "veqDODPY1FG2"
      },
      "source": [
        "def plot_curve_error(data_mean, data_std, x_label, y_label, title):\n",
        "\n",
        "    plt.figure(figsize=(8, 6))\n",
        "    plt.title(title)\n",
        "\n",
        "    alpha = 0.3\n",
        "    \n",
        "    plt.plot(range(len(data_mean)), data_mean, '-', color = 'red')\n",
        "    plt.fill_between(range(len(data_mean)), data_mean - data_std, data_mean + data_std, facecolor = 'blue', alpha = alpha) \n",
        "    \n",
        "    plt.xlabel(x_label)\n",
        "    plt.ylabel(y_label)\n",
        "\n",
        "    plt.tight_layout()\n",
        "    plt.show()"
      ],
      "execution_count": null,
      "outputs": []
    },
    {
      "cell_type": "code",
      "metadata": {
        "id": "TwHz74PA1FG2"
      },
      "source": [
        "def plot_curve_error2(data1_mean, data1_std, data1_label, data2_mean, data2_std, data2_label, x_label, y_label, title):\n",
        "    \n",
        "    plt.figure(figsize=(8, 6))\n",
        "    plt.title(title)\n",
        "\n",
        "    alpha = 0.3\n",
        "\n",
        "    plt.plot(range(len(data1_mean)), data1_mean, '-', color = 'blue', label = data1_label)\n",
        "    plt.fill_between(range(len(data1_mean)), data1_mean - data1_std, data1_mean + data1_std, facecolor = 'blue', alpha = alpha)\n",
        "\n",
        "    plt.plot(range(len(data2_mean)), data2_mean, '-', color = 'red', label = data2_label)\n",
        "    plt.fill_between(range(len(data2_mean)), data2_mean - data2_std, data2_mean + data2_std, facecolor = 'red', alpha = alpha)\n",
        "\n",
        "    plt.xlabel(x_label)\n",
        "    plt.ylabel(y_label)\n",
        "\n",
        "    plt.tight_layout()\n",
        "    plt.show()"
      ],
      "execution_count": null,
      "outputs": []
    },
    {
      "cell_type": "markdown",
      "metadata": {
        "id": "QvTYGVpP1FG2"
      },
      "source": [
        "## loss (training) curve"
      ]
    },
    {
      "cell_type": "code",
      "metadata": {
        "id": "2mwtYOMX1FG2",
        "colab": {
          "base_uri": "https://localhost:8080/",
          "height": 441
        },
        "outputId": "f0407a81-1b77-406b-de32-10df2585ccea"
      },
      "source": [
        "plot_curve(loss_train_iteration, 'iteration', 'loss', 'loss (training) curve')"
      ],
      "execution_count": null,
      "outputs": [
        {
          "output_type": "display_data",
          "data": {
            "image/png": "[encoded data removed]",
            "text/plain": [
              "<Figure size 576x432 with 1 Axes>"
            ]
          },
          "metadata": {
            "needs_background": "light"
          }
        }
      ]
    },
    {
      "cell_type": "markdown",
      "metadata": {
        "id": "m-cl0AC51FG2"
      },
      "source": [
        "```console\n",
        "\n",
        "$ git commit -m \"Complete drawing loss(training) curve\" assignment_03.ipynb\n",
        "\n",
        "```"
      ]
    },
    {
      "cell_type": "markdown",
      "metadata": {
        "id": "dWJNxk4u1FG2"
      },
      "source": [
        "## loss (testing) curve"
      ]
    },
    {
      "cell_type": "code",
      "metadata": {
        "id": "AuAM0d1F1FG2",
        "colab": {
          "base_uri": "https://localhost:8080/",
          "height": 441
        },
        "outputId": "3afa2f79-d51c-4842-f76d-bf7465410c83"
      },
      "source": [
        "plot_curve(loss_test_iteration, 'iteration', 'loss', 'loss (testing) curve')"
      ],
      "execution_count": null,
      "outputs": [
        {
          "output_type": "display_data",
          "data": {
            "image/png": "[encoded data removed]",
            "text/plain": [
              "<Figure size 576x432 with 1 Axes>"
            ]
          },
          "metadata": {
            "needs_background": "light"
          }
        }
      ]
    },
    {
      "cell_type": "markdown",
      "metadata": {
        "id": "ik0svC3A1FG3"
      },
      "source": [
        "```console\n",
        "\n",
        "$ git commit -m \"Complete drawing loss(testing) curve\" assignment_03.ipynb\n",
        "\n",
        "```"
      ]
    },
    {
      "cell_type": "markdown",
      "metadata": {
        "id": "iN6t4eUd1FG3"
      },
      "source": [
        "## accuracy (training) curve"
      ]
    },
    {
      "cell_type": "code",
      "metadata": {
        "id": "F4N-gvL71FG3",
        "colab": {
          "base_uri": "https://localhost:8080/",
          "height": 441
        },
        "outputId": "72004e4c-fdeb-4e42-95d3-abbf974992e7"
      },
      "source": [
        "plot_curve(accuracy_train_iteration, 'iteration', 'accuracy', 'accuracy (training) curve')"
      ],
      "execution_count": null,
      "outputs": [
        {
          "output_type": "display_data",
          "data": {
            "image/png": "[encoded data removed]",
            "text/plain": [
              "<Figure size 576x432 with 1 Axes>"
            ]
          },
          "metadata": {
            "needs_background": "light"
          }
        }
      ]
    },
    {
      "cell_type": "markdown",
      "metadata": {
        "id": "4OhqXhpa1FG3"
      },
      "source": [
        "```console\n",
        "\n",
        "$ git commit -m \"Complete drawing accuracy(training) curve\" assignment_03.ipynb\n",
        "\n",
        "```"
      ]
    },
    {
      "cell_type": "markdown",
      "metadata": {
        "id": "MDgaBxPT1FG3"
      },
      "source": [
        "## accuracy (testing) curve"
      ]
    },
    {
      "cell_type": "code",
      "metadata": {
        "id": "kVUF-fLg1FG3",
        "colab": {
          "base_uri": "https://localhost:8080/",
          "height": 441
        },
        "outputId": "83306590-5b66-4a7e-cc95-d19db2fa7027"
      },
      "source": [
        "plot_curve(accuracy_test_iteration, 'iteration', 'accuracy', 'accuracy (testing) curve')"
      ],
      "execution_count": null,
      "outputs": [
        {
          "output_type": "display_data",
          "data": {
            "image/png": "[encoded data removed]",
            "text/plain": [
              "<Figure size 576x432 with 1 Axes>"
            ]
          },
          "metadata": {
            "needs_background": "light"
          }
        }
      ]
    },
    {
      "cell_type": "markdown",
      "metadata": {
        "id": "tNGEAfwP1FG4"
      },
      "source": [
        "```console\n",
        "\n",
        "$ git commit -m \"Complete drawing accuracy(testing) curve\" assignment_03.ipynb\n",
        "\n",
        "```"
      ]
    },
    {
      "cell_type": "markdown",
      "metadata": {
        "id": "i-_sGAvi1FG4"
      },
      "source": [
        "## plot prediction values"
      ]
    },
    {
      "cell_type": "code",
      "metadata": {
        "id": "MrVVYGdZ1FG4",
        "colab": {
          "base_uri": "https://localhost:8080/",
          "height": 441
        },
        "outputId": "e406c18b-5273-4237-b6b2-555f4caff301"
      },
      "source": [
        "plot_curve_error(pred_0_train_mean_iteration, pred_0_train_std_iteration, 'iteration', 'prediction', 'prediction (training : 0)')"
      ],
      "execution_count": null,
      "outputs": [
        {
          "output_type": "display_data",
          "data": {
            "image/png": "[encoded data removed]",
            "text/plain": [
              "<Figure size 576x432 with 1 Axes>"
            ]
          },
          "metadata": {
            "needs_background": "light"
          }
        }
      ]
    },
    {
      "cell_type": "markdown",
      "metadata": {
        "id": "j8vYgeut1FG4"
      },
      "source": [
        "```console\n",
        "\n",
        "$ git commit -m \"Complete drawing pred_0_train curve\" assignment_03.ipynb\n",
        "\n",
        "```"
      ]
    },
    {
      "cell_type": "code",
      "metadata": {
        "id": "moGDDzT_1FG4",
        "outputId": "d8b86e9c-0d51-4c55-fdd4-c97e4d7a6dd4"
      },
      "source": [
        "plot_curve_error(pred_1_train_mean_iteration, pred_1_train_std_iteration, 'iteration', 'prediction', 'prediction (training : 1)')"
      ],
      "execution_count": null,
      "outputs": [
        {
          "output_type": "display_data",
          "data": {
            "image/png": "[encoded data removed]",
            "text/plain": [
              "<Figure size 576x432 with 1 Axes>"
            ]
          },
          "metadata": {
            "needs_background": "light"
          }
        }
      ]
    },
    {
      "cell_type": "markdown",
      "metadata": {
        "id": "3qUIeGaE1FG4"
      },
      "source": [
        "```console\n",
        "\n",
        "$ git commit -m \"Complete drawing pred_1_train curve\" assignment_03.ipynb\n",
        "\n",
        "```"
      ]
    },
    {
      "cell_type": "code",
      "metadata": {
        "id": "dCOywbvk1FG4",
        "colab": {
          "base_uri": "https://localhost:8080/",
          "height": 441
        },
        "outputId": "b47d7348-930d-421d-fe2e-c37f01b25ebf"
      },
      "source": [
        "plot_curve_error(pred_0_test_mean_iteration, pred_0_test_std_iteration, 'iteration', 'prediction', 'prediction (testing : 0)')"
      ],
      "execution_count": null,
      "outputs": [
        {
          "output_type": "display_data",
          "data": {
            "image/png": "[encoded data removed]",
            "text/plain": [
              "<Figure size 576x432 with 1 Axes>"
            ]
          },
          "metadata": {
            "needs_background": "light"
          }
        }
      ]
    },
    {
      "cell_type": "markdown",
      "metadata": {
        "id": "7KGpuPtn1FG5"
      },
      "source": [
        "```console\n",
        "\n",
        "$ git commit -m \"Complete drawing pred_0_text curve\" assignment_03.ipynb\n",
        "\n",
        "```"
      ]
    },
    {
      "cell_type": "code",
      "metadata": {
        "id": "8ShrI44S1FG5",
        "outputId": "bb222a3e-1c5f-4cdc-bc13-8166e02ab271"
      },
      "source": [
        "plot_curve_error(pred_1_test_mean_iteration, pred_1_test_std_iteration, 'iteration', 'prediction', 'prediction (testing : 1)')"
      ],
      "execution_count": null,
      "outputs": [
        {
          "output_type": "display_data",
          "data": {
            "image/png": "[encoded data removed]",
            "text/plain": [
              "<Figure size 576x432 with 1 Axes>"
            ]
          },
          "metadata": {
            "needs_background": "light"
          }
        }
      ]
    },
    {
      "cell_type": "markdown",
      "metadata": {
        "id": "QruDU-OO1FG5"
      },
      "source": [
        "```console\n",
        "\n",
        "$ git commit -m \"Complete drawing pred_1_test curve\" assignment_03.ipynb\n",
        "\n",
        "```"
      ]
    },
    {
      "cell_type": "markdown",
      "metadata": {
        "id": "w81_LgxG1FG5"
      },
      "source": [
        "## print values"
      ]
    },
    {
      "cell_type": "code",
      "metadata": {
        "id": "4nyRa9501FG5"
      },
      "source": [
        "def print_curve(data, index):\n",
        "\n",
        "    for i in range(len(index)):\n",
        "\n",
        "        idx = index[i]\n",
        "        val = data[idx]\n",
        "\n",
        "        print('index = %4d, value = %12.10f' % (idx, val))"
      ],
      "execution_count": null,
      "outputs": []
    },
    {
      "cell_type": "markdown",
      "metadata": {
        "id": "LqMWj0Pl1FG5"
      },
      "source": [
        "## given iterations at which the values are presented"
      ]
    },
    {
      "cell_type": "code",
      "metadata": {
        "id": "NkwziJvo1FG5"
      },
      "source": [
        "index = np.array([0, 100, 200, 300, 400, 500, 600, 700, 800, 900])"
      ],
      "execution_count": null,
      "outputs": []
    },
    {
      "cell_type": "markdown",
      "metadata": {
        "id": "HqOmVGvi1FG5"
      },
      "source": [
        "## training loss"
      ]
    },
    {
      "cell_type": "code",
      "metadata": {
        "id": "c6rnKwzg1FG5",
        "colab": {
          "base_uri": "https://localhost:8080/"
        },
        "outputId": "bccdb98c-8a20-423c-b94d-34431560642d"
      },
      "source": [
        "print_curve(loss_train_iteration, index)"
      ],
      "execution_count": null,
      "outputs": [
        {
          "output_type": "stream",
          "name": "stdout",
          "text": [
            "index =    0, value = 0.4307224931\n",
            "index =  100, value = 0.0228587158\n",
            "index =  200, value = 0.0152848436\n",
            "index =  300, value = 0.0123252408\n",
            "index =  400, value = 0.0106733249\n",
            "index =  500, value = 0.0095914393\n",
            "index =  600, value = 0.0088148843\n",
            "index =  700, value = 0.0082233150\n",
            "index =  800, value = 0.0077534391\n",
            "index =  900, value = 0.0073684872\n"
          ]
        }
      ]
    },
    {
      "cell_type": "markdown",
      "metadata": {
        "id": "rqXSMEIn1FG5"
      },
      "source": [
        "```console\n",
        "\n",
        "$ git commit -m \"Print training loss per iteration\" assignment_03.ipynb\n",
        "\n",
        "```"
      ]
    },
    {
      "cell_type": "markdown",
      "metadata": {
        "id": "Vp710kR51FG5"
      },
      "source": [
        "## testing loss"
      ]
    },
    {
      "cell_type": "code",
      "metadata": {
        "id": "ace85YDD1FG6",
        "colab": {
          "base_uri": "https://localhost:8080/"
        },
        "outputId": "ec0e0fb0-2245-4370-f502-c3b3517cf55b"
      },
      "source": [
        "print_curve(loss_test_iteration, index)"
      ],
      "execution_count": null,
      "outputs": [
        {
          "output_type": "stream",
          "name": "stdout",
          "text": [
            "index =    0, value = 0.4263057547\n",
            "index =  100, value = 0.0167458567\n",
            "index =  200, value = 0.0099479647\n",
            "index =  300, value = 0.0074345386\n",
            "index =  400, value = 0.0060961282\n",
            "index =  500, value = 0.0052563281\n",
            "index =  600, value = 0.0046772450\n",
            "index =  700, value = 0.0042526444\n",
            "index =  800, value = 0.0039275775\n",
            "index =  900, value = 0.0036706179\n"
          ]
        }
      ]
    },
    {
      "cell_type": "markdown",
      "metadata": {
        "id": "BNM62NrX1FG6"
      },
      "source": [
        "```console\n",
        "\n",
        "$ git commit -m \"Print test loss per iteration\" assignment_03.ipynb\n",
        "\n",
        "```"
      ]
    },
    {
      "cell_type": "markdown",
      "metadata": {
        "id": "Q8mnJ1211FG6"
      },
      "source": [
        "## training accuracy"
      ]
    },
    {
      "cell_type": "code",
      "metadata": {
        "id": "yX_2QZiQ1FG6",
        "colab": {
          "base_uri": "https://localhost:8080/"
        },
        "outputId": "052317a8-a393-47a0-baf1-83020e2c20bc"
      },
      "source": [
        "print_curve(accuracy_train_iteration, index)"
      ],
      "execution_count": null,
      "outputs": [
        {
          "output_type": "stream",
          "name": "stdout",
          "text": [
            "index =    0, value = 0.4825000000\n",
            "index =  100, value = 0.5008000000\n",
            "index =  200, value = 0.5006000000\n",
            "index =  300, value = 0.5005000000\n",
            "index =  400, value = 0.5004000000\n",
            "index =  500, value = 0.5003000000\n",
            "index =  600, value = 0.5000000000\n",
            "index =  700, value = 0.4999000000\n",
            "index =  800, value = 0.5000000000\n",
            "index =  900, value = 0.4999000000\n"
          ]
        }
      ]
    },
    {
      "cell_type": "markdown",
      "metadata": {
        "id": "nC9UXFSy1FG6"
      },
      "source": [
        "```console\n",
        "\n",
        "$ git commit -m \"Print training accuracy per iteration\" assignment_03.ipynb\n",
        "\n",
        "```"
      ]
    },
    {
      "cell_type": "markdown",
      "metadata": {
        "id": "qyulN2kH1FG6"
      },
      "source": [
        "## testing accuracy"
      ]
    },
    {
      "cell_type": "code",
      "metadata": {
        "id": "T8rtE1zf1FG6",
        "colab": {
          "base_uri": "https://localhost:8080/"
        },
        "outputId": "f06d26c0-7209-4e00-cbb5-e3d32946e6a0"
      },
      "source": [
        "print_curve(accuracy_test_iteration, index)"
      ],
      "execution_count": null,
      "outputs": [
        {
          "output_type": "stream",
          "name": "stdout",
          "text": [
            "index =    0, value = 0.4850000000\n",
            "index =  100, value = 0.5005555556\n",
            "index =  200, value = 0.5005555556\n",
            "index =  300, value = 0.5000000000\n",
            "index =  400, value = 0.5000000000\n",
            "index =  500, value = 0.5000000000\n",
            "index =  600, value = 0.5000000000\n",
            "index =  700, value = 0.5000000000\n",
            "index =  800, value = 0.5000000000\n",
            "index =  900, value = 0.5000000000\n"
          ]
        }
      ]
    },
    {
      "cell_type": "markdown",
      "metadata": {
        "id": "ELOZHEkS1FG6"
      },
      "source": [
        "```console\n",
        "\n",
        "$ git commit -m \"Print test accuracy per iteration\" assignment_03.ipynb\n",
        "\n",
        "```"
      ]
    },
    {
      "cell_type": "markdown",
      "metadata": {
        "id": "DKM7fYsf1FG6"
      },
      "source": [
        "## functions for presenting the results"
      ]
    },
    {
      "cell_type": "code",
      "metadata": {
        "id": "XQSttZI_1FG6"
      },
      "source": [
        "def function_results_01(data, index_data, nRow, nCol):\n",
        "    fig, axes = plt.subplots(nRow, nCol, constrained_layout=True, figsize=(nCol * 3, nRow * 3))\n",
        "\n",
        "    for i in range(nRow):\n",
        "        for j in range(nCol):\n",
        "\n",
        "            k       = i * nCol + j\n",
        "            index   = index_data[k]\n",
        "\n",
        "            axes[i, j].imshow(data[index], cmap='gray', vmin=0, vmax=1)\n",
        "            axes[i, j].xaxis.set_visible(False)\n",
        "            axes[i, j].yaxis.set_visible(False)\n",
        "\n",
        "    plt.show()"
      ],
      "execution_count": 212,
      "outputs": []
    },
    {
      "cell_type": "code",
      "metadata": {
        "id": "frsgf1Rw1FG6"
      },
      "source": [
        "def function_results_02(data, index_data, nRow, nCol):\n",
        "    fig, axes = plt.subplots(nRow, nCol, constrained_layout=True, figsize=(nCol * 3, nRow * 3))\n",
        "\n",
        "    for i in range(nRow):\n",
        "        for j in range(nCol):\n",
        "\n",
        "            k       = i * nCol + j\n",
        "            index   = index_data[k]\n",
        "\n",
        "            axes[i, j].imshow(data[index], cmap='gray', vmin=0, vmax=1)\n",
        "            axes[i, j].xaxis.set_visible(False)\n",
        "            axes[i, j].yaxis.set_visible(False)\n",
        "\n",
        "    plt.show()"
      ],
      "execution_count": 214,
      "outputs": []
    },
    {
      "cell_type": "code",
      "metadata": {
        "id": "YX4bcfSg1FG7"
      },
      "source": [
        "def function_results_03(data, x_label, y_label, title):\n",
        "    plt.figure(figsize=(8, 6))\n",
        "    plt.title(title)\n",
        "\n",
        "    plt.plot(range(len(data)), data, '-', color='red')\n",
        "    \n",
        "    plt.xlabel(x_label)\n",
        "    plt.ylabel(y_label)\n",
        "\n",
        "    plt.tight_layout()\n",
        "    plt.show()"
      ],
      "execution_count": 218,
      "outputs": []
    },
    {
      "cell_type": "code",
      "metadata": {
        "id": "2_b_958k1FG7"
      },
      "source": [
        "def function_results_04(data, x_label, y_label, title):\n",
        "    function_results_03(data, x_label, y_label, title)"
      ],
      "execution_count": 226,
      "outputs": []
    },
    {
      "cell_type": "code",
      "metadata": {
        "id": "SAVuicwY1FG7"
      },
      "source": [
        "def function_results_05(data, x_label, y_label, title):\n",
        "    function_results_03(data, x_label, y_label, title)"
      ],
      "execution_count": 227,
      "outputs": []
    },
    {
      "cell_type": "code",
      "metadata": {
        "id": "1EHJ4a4x1FG7"
      },
      "source": [
        "def function_results_06(data, x_label, y_label, title):\n",
        "    function_results_03(data, x_label, y_label, title)"
      ],
      "execution_count": 228,
      "outputs": []
    },
    {
      "cell_type": "code",
      "metadata": {
        "id": "9No5DdPh1FG7"
      },
      "source": [
        "def function_results_07(data_mean, data_std, x_label, y_label, title):\n",
        "    plt.figure(figsize=(8, 6))\n",
        "    plt.title(title)\n",
        "\n",
        "    alpha = 0.3\n",
        "    \n",
        "    plt.plot(range(len(data_mean)), data_mean, '-', color = 'red')\n",
        "    plt.fill_between(range(len(data_mean)), data_mean - data_std, data_mean + data_std, facecolor = 'blue', alpha = alpha) \n",
        "    \n",
        "    plt.xlabel(x_label)\n",
        "    plt.ylabel(y_label)\n",
        "\n",
        "    plt.tight_layout()\n",
        "    plt.show()"
      ],
      "execution_count": 233,
      "outputs": []
    },
    {
      "cell_type": "code",
      "metadata": {
        "id": "DhctNCNp1FG7"
      },
      "source": [
        "def function_results_08(data_mean, data_std, x_label, y_label, title):\n",
        "    function_results_07(data_mean, data_std, x_label, y_label, title)"
      ],
      "execution_count": 238,
      "outputs": []
    },
    {
      "cell_type": "code",
      "metadata": {
        "id": "lQNFgIdd1FG7"
      },
      "source": [
        "def function_results_09(data_mean, data_std, x_label, y_label, title):\n",
        "    function_results_07(data_mean, data_std, x_label, y_label, title)"
      ],
      "execution_count": 239,
      "outputs": []
    },
    {
      "cell_type": "code",
      "metadata": {
        "id": "umOhjpqT1FG7"
      },
      "source": [
        "def function_results_10(data_mean, data_std, x_label, y_label, title):\n",
        "    function_results_07(data_mean, data_std, x_label, y_label, title)"
      ],
      "execution_count": 240,
      "outputs": []
    },
    {
      "cell_type": "code",
      "metadata": {
        "id": "PLWa8dfy1FG7"
      },
      "source": [
        "def function_results_11(data, index):\n",
        "    for i in range(len(index)):\n",
        "\n",
        "        idx = index[i]\n",
        "        val = data[idx]\n",
        "\n",
        "        print('index = %4d, value = %12.10f' % (idx, val))"
      ],
      "execution_count": 250,
      "outputs": []
    },
    {
      "cell_type": "code",
      "metadata": {
        "id": "bt5XiuE-1FG7"
      },
      "source": [
        "def function_results_12(data, index):\n",
        "    function_results_11(data, index)"
      ],
      "execution_count": 251,
      "outputs": []
    },
    {
      "cell_type": "code",
      "metadata": {
        "id": "P9nGftBZ1FG7"
      },
      "source": [
        "def function_results_13(data, index):\n",
        "    function_results_11(data, index)"
      ],
      "execution_count": 252,
      "outputs": []
    },
    {
      "cell_type": "code",
      "metadata": {
        "id": "W2bE9XFG1FG8"
      },
      "source": [
        "def function_results_14(data, index):\n",
        "    function_results_11(data, index)"
      ],
      "execution_count": 253,
      "outputs": []
    },
    {
      "cell_type": "markdown",
      "metadata": {
        "id": "GLpDfbYJ1FG8"
      },
      "source": [
        "---"
      ]
    },
    {
      "cell_type": "markdown",
      "metadata": {
        "id": "BlLdKMTA1FG8"
      },
      "source": [
        "# RESULTS"
      ]
    },
    {
      "cell_type": "markdown",
      "metadata": {
        "id": "EBoCPosr1FG8"
      },
      "source": [
        "---"
      ]
    },
    {
      "cell_type": "markdown",
      "metadata": {
        "id": "hrIc7efQ1FG8"
      },
      "source": [
        "## # 01. plot examples of the input training images for '0'"
      ]
    },
    {
      "cell_type": "code",
      "metadata": {
        "id": "TXCFZvRm1FG8",
        "outputId": "5d8b45ff-fbbc-4867-f64d-04bbd192d76d",
        "colab": {
          "base_uri": "https://localhost:8080/",
          "height": 456
        }
      },
      "source": [
        "function_results_01(x_train, index_data_0, nRow, nCol)"
      ],
      "execution_count": 213,
      "outputs": [
        {
          "output_type": "display_data",
          "data": {
            "image/png": "[encoded data removed]",
            "text/plain": [
              "<Figure size 864x432 with 8 Axes>"
            ]
          },
          "metadata": {
            "needs_background": "light"
          }
        }
      ]
    },
    {
      "cell_type": "markdown",
      "metadata": {
        "id": "4c2CqS5k1FG8"
      },
      "source": [
        "## # 02. plot examples of the input training images for '1'"
      ]
    },
    {
      "cell_type": "code",
      "metadata": {
        "id": "7AiY7W7W1FG8",
        "outputId": "6173ee73-4570-42de-dbb4-37a7d05529f6",
        "colab": {
          "base_uri": "https://localhost:8080/",
          "height": 456
        }
      },
      "source": [
        "function_results_02(x_train, index_data_1, nRow, nCol)"
      ],
      "execution_count": 215,
      "outputs": [
        {
          "output_type": "display_data",
          "data": {
            "image/png": "[encoded data removed]",
            "text/plain": [
              "<Figure size 864x432 with 8 Axes>"
            ]
          },
          "metadata": {
            "needs_background": "light"
          }
        }
      ]
    },
    {
      "cell_type": "markdown",
      "metadata": {
        "id": "EPBohzGl1FG8"
      },
      "source": [
        "## # 03. plot the training loss curve (x-axis: iteration, y-axis: loss)"
      ]
    },
    {
      "cell_type": "code",
      "metadata": {
        "id": "BQzx2zqx1FG8",
        "outputId": "ce920162-d1e7-4b9f-87e7-a9d622d8ad1c",
        "colab": {
          "base_uri": "https://localhost:8080/",
          "height": 441
        }
      },
      "source": [
        "function_results_03(loss_train_iteration, 'iteration', 'loss', 'loss (training) curve')"
      ],
      "execution_count": 223,
      "outputs": [
        {
          "output_type": "display_data",
          "data": {
            "image/png": "[encoded data removed]",
            "text/plain": [
              "<Figure size 576x432 with 1 Axes>"
            ]
          },
          "metadata": {
            "needs_background": "light"
          }
        }
      ]
    },
    {
      "cell_type": "markdown",
      "metadata": {
        "id": "0QCt_VJm1FG9"
      },
      "source": [
        "## # 04. plot the testing loss curve (x-axis: iteration, y-axis: loss)"
      ]
    },
    {
      "cell_type": "code",
      "metadata": {
        "id": "3VdFwloa1FG9",
        "outputId": "61914911-4217-4c00-a09c-dccdb9523c1e",
        "colab": {
          "base_uri": "https://localhost:8080/",
          "height": 441
        }
      },
      "source": [
        "function_results_04(loss_test_iteration, 'iteration', 'loss', 'loss (testing) curve')"
      ],
      "execution_count": 225,
      "outputs": [
        {
          "output_type": "display_data",
          "data": {
            "image/png": "[encoded data removed]",
            "text/plain": [
              "<Figure size 576x432 with 1 Axes>"
            ]
          },
          "metadata": {
            "needs_background": "light"
          }
        }
      ]
    },
    {
      "cell_type": "markdown",
      "metadata": {
        "id": "vkd28i_-1FG-"
      },
      "source": [
        "## # 05. plot the training accuracy curve (x-axis: iteration, y-axis: accuracy)"
      ]
    },
    {
      "cell_type": "code",
      "metadata": {
        "id": "LYoSm7uC1FG-",
        "outputId": "5ea14bbb-6cb1-4c74-fd77-9447f68e09de",
        "colab": {
          "base_uri": "https://localhost:8080/",
          "height": 441
        }
      },
      "source": [
        "function_results_05(accuracy_train_iteration, 'iteration', 'accuracy', 'accuracy (training) curve')"
      ],
      "execution_count": 229,
      "outputs": [
        {
          "output_type": "display_data",
          "data": {
            "image/png": "[encoded data removed]",
            "text/plain": [
              "<Figure size 576x432 with 1 Axes>"
            ]
          },
          "metadata": {
            "needs_background": "light"
          }
        }
      ]
    },
    {
      "cell_type": "markdown",
      "metadata": {
        "id": "i2mT3PZZ1FG-"
      },
      "source": [
        "## # 06. plot the testing accuracy curve (x-axis: iteration, y-axis: accuracy)"
      ]
    },
    {
      "cell_type": "code",
      "metadata": {
        "id": "Gb4vziHT1FG-",
        "outputId": "f6f63140-4221-4ed9-d399-510b9c607e34",
        "colab": {
          "base_uri": "https://localhost:8080/",
          "height": 441
        }
      },
      "source": [
        "function_results_06(accuracy_test_iteration, 'iteration', 'accuracy', 'accuracy (testing) curve')"
      ],
      "execution_count": 230,
      "outputs": [
        {
          "output_type": "display_data",
          "data": {
            "image/png": "[encoded data removed]",
            "text/plain": [
              "<Figure size 576x432 with 1 Axes>"
            ]
          },
          "metadata": {
            "needs_background": "light"
          }
        }
      ]
    },
    {
      "cell_type": "markdown",
      "metadata": {
        "id": "_C1-ZpLh1FG-"
      },
      "source": [
        "## # 07. plot the training prediction curve (mean and std) for image 0 (x-axis: iteration, y-axis: prediction)"
      ]
    },
    {
      "cell_type": "code",
      "metadata": {
        "id": "iY5HY8Fj1FG-",
        "outputId": "55b9f3c5-4e2d-44f1-e4e6-e70e218f4f2e",
        "colab": {
          "base_uri": "https://localhost:8080/",
          "height": 441
        }
      },
      "source": [
        "function_results_07(pred_0_train_mean_iteration, pred_0_train_std_iteration, 'iteration', 'prediction', 'prediction (training : 0)')"
      ],
      "execution_count": 234,
      "outputs": [
        {
          "output_type": "display_data",
          "data": {
            "image/png": "[encoded data removed]",
            "text/plain": [
              "<Figure size 576x432 with 1 Axes>"
            ]
          },
          "metadata": {
            "needs_background": "light"
          }
        }
      ]
    },
    {
      "cell_type": "markdown",
      "metadata": {
        "id": "7tSnwCI01FG-"
      },
      "source": [
        "## # 08. plot the training prediction curve (mean and std) for image 1 (x-axis: iteration, y-axis: prediction)"
      ]
    },
    {
      "cell_type": "code",
      "metadata": {
        "id": "0pirC3_U1FG-",
        "outputId": "1e0fd6ba-d6ff-4d5c-cc58-c3f0a96c1fab",
        "colab": {
          "base_uri": "https://localhost:8080/",
          "height": 441
        }
      },
      "source": [
        "function_results_08(pred_1_train_mean_iteration, pred_1_train_std_iteration, 'iteration', 'prediction', 'prediction (training : 1)')"
      ],
      "execution_count": 237,
      "outputs": [
        {
          "output_type": "display_data",
          "data": {
            "image/png": "[encoded data removed]",
            "text/plain": [
              "<Figure size 576x432 with 1 Axes>"
            ]
          },
          "metadata": {
            "needs_background": "light"
          }
        }
      ]
    },
    {
      "cell_type": "markdown",
      "metadata": {
        "id": "fRfCghEP1FG-"
      },
      "source": [
        "## # 09. plot the testing prediction curve (mean and std) for image 0 (x-axis: iteration, y-axis: prediction)"
      ]
    },
    {
      "cell_type": "code",
      "metadata": {
        "id": "orDylfmA1FG-",
        "outputId": "60e24d51-926f-4305-d3f2-c0d42e57063c",
        "colab": {
          "base_uri": "https://localhost:8080/",
          "height": 441
        }
      },
      "source": [
        "function_results_09(pred_0_test_mean_iteration, pred_0_test_std_iteration, 'iteration', 'prediction', 'prediction (testing : 0)')"
      ],
      "execution_count": 241,
      "outputs": [
        {
          "output_type": "display_data",
          "data": {
            "image/png": "[encoded data removed]",
            "text/plain": [
              "<Figure size 576x432 with 1 Axes>"
            ]
          },
          "metadata": {
            "needs_background": "light"
          }
        }
      ]
    },
    {
      "cell_type": "markdown",
      "metadata": {
        "id": "WnJxAHwc1FG_"
      },
      "source": [
        "## # 10. plot the testing prediction curve (mean and std) for image 1 (x-axis: iteration, y-axis: prediction)"
      ]
    },
    {
      "cell_type": "code",
      "metadata": {
        "id": "sCcE8iFt1FG_",
        "outputId": "5e3aa904-cc28-4e53-bba2-bc48d9d195ba",
        "colab": {
          "base_uri": "https://localhost:8080/",
          "height": 441
        }
      },
      "source": [
        "function_results_10(pred_1_test_mean_iteration, pred_1_test_std_iteration, 'iteration', 'prediction', 'prediction (testing : 1)')"
      ],
      "execution_count": 242,
      "outputs": [
        {
          "output_type": "display_data",
          "data": {
            "image/png": "[encoded data removed]",
            "text/plain": [
              "<Figure size 576x432 with 1 Axes>"
            ]
          },
          "metadata": {
            "needs_background": "light"
          }
        }
      ]
    },
    {
      "cell_type": "markdown",
      "metadata": {
        "id": "I-GZwbaR1FG_"
      },
      "source": [
        "## # 11. print the training loss at iterations 0, 100, 200, 300, 400, 500, 600, 700, 800, 900"
      ]
    },
    {
      "cell_type": "code",
      "metadata": {
        "id": "YK-8fydB1FG_",
        "outputId": "6640530f-9d3a-4c82-8d96-4e96125ff119",
        "colab": {
          "base_uri": "https://localhost:8080/"
        }
      },
      "source": [
        "function_results_11(loss_train_iteration, index)"
      ],
      "execution_count": 247,
      "outputs": [
        {
          "output_type": "stream",
          "name": "stdout",
          "text": [
            "index =    0, value = 0.4307224931\n",
            "index =  100, value = 0.0228587158\n",
            "index =  200, value = 0.0152848436\n",
            "index =  300, value = 0.0123252408\n",
            "index =  400, value = 0.0106733249\n",
            "index =  500, value = 0.0095914393\n",
            "index =  600, value = 0.0088148843\n",
            "index =  700, value = 0.0082233150\n",
            "index =  800, value = 0.0077534391\n",
            "index =  900, value = 0.0073684872\n"
          ]
        }
      ]
    },
    {
      "cell_type": "markdown",
      "metadata": {
        "id": "gF7a4XYP1FG_"
      },
      "source": [
        "## # 12. print the testing loss at iterations 0, 100, 200, 300, 400, 500, 600, 700, 800, 900"
      ]
    },
    {
      "cell_type": "code",
      "metadata": {
        "id": "n1SbFprL1FG_",
        "outputId": "870e4fae-7f5f-4854-f3ad-44d63b40fc84",
        "colab": {
          "base_uri": "https://localhost:8080/"
        }
      },
      "source": [
        "function_results_12(loss_test_iteration, index)"
      ],
      "execution_count": 254,
      "outputs": [
        {
          "output_type": "stream",
          "name": "stdout",
          "text": [
            "index =    0, value = 0.4263057547\n",
            "index =  100, value = 0.0167458567\n",
            "index =  200, value = 0.0099479647\n",
            "index =  300, value = 0.0074345386\n",
            "index =  400, value = 0.0060961282\n",
            "index =  500, value = 0.0052563281\n",
            "index =  600, value = 0.0046772450\n",
            "index =  700, value = 0.0042526444\n",
            "index =  800, value = 0.0039275775\n",
            "index =  900, value = 0.0036706179\n"
          ]
        }
      ]
    },
    {
      "cell_type": "markdown",
      "metadata": {
        "id": "l_jMIk7k1FG_"
      },
      "source": [
        "## # 13. print the training accuracy at iterations 0, 100, 200, 300, 400, 500, 600, 700, 800, 900"
      ]
    },
    {
      "cell_type": "code",
      "metadata": {
        "id": "ilwViCuM1FG_",
        "outputId": "21bc5ca0-f5dd-427e-d8c2-97958282478c",
        "colab": {
          "base_uri": "https://localhost:8080/"
        }
      },
      "source": [
        "function_results_13(accuracy_train_iteration, index)"
      ],
      "execution_count": 255,
      "outputs": [
        {
          "output_type": "stream",
          "name": "stdout",
          "text": [
            "index =    0, value = 0.4825000000\n",
            "index =  100, value = 0.5008000000\n",
            "index =  200, value = 0.5006000000\n",
            "index =  300, value = 0.5005000000\n",
            "index =  400, value = 0.5004000000\n",
            "index =  500, value = 0.5003000000\n",
            "index =  600, value = 0.5000000000\n",
            "index =  700, value = 0.4999000000\n",
            "index =  800, value = 0.5000000000\n",
            "index =  900, value = 0.4999000000\n"
          ]
        }
      ]
    },
    {
      "cell_type": "markdown",
      "metadata": {
        "id": "ub8cMABE1FG_"
      },
      "source": [
        "## # 14. print the testing accuracy at iterations 0, 100, 200, 300, 400, 500, 600, 700, 800, 900"
      ]
    },
    {
      "cell_type": "code",
      "metadata": {
        "id": "PWxVrX3h1FG_",
        "outputId": "0ad4a5f4-7087-47af-f07c-4a7b0b076144",
        "colab": {
          "base_uri": "https://localhost:8080/"
        }
      },
      "source": [
        "function_results_14(accuracy_test_iteration, index)"
      ],
      "execution_count": 256,
      "outputs": [
        {
          "output_type": "stream",
          "name": "stdout",
          "text": [
            "index =    0, value = 0.4850000000\n",
            "index =  100, value = 0.5005555556\n",
            "index =  200, value = 0.5005555556\n",
            "index =  300, value = 0.5000000000\n",
            "index =  400, value = 0.5000000000\n",
            "index =  500, value = 0.5000000000\n",
            "index =  600, value = 0.5000000000\n",
            "index =  700, value = 0.5000000000\n",
            "index =  800, value = 0.5000000000\n",
            "index =  900, value = 0.5000000000\n"
          ]
        }
      ]
    }
  ]
}